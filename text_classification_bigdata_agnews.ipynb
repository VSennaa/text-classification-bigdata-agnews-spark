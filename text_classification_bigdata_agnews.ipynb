{
  "nbformat": 4,
  "nbformat_minor": 0,
  "metadata": {
    "colab": {
      "provenance": [],
      "gpuType": "T4",
      "authorship_tag": "ABX9TyO+09VQyoAynDPsQp04YcyO",
      "include_colab_link": true
    },
    "kernelspec": {
      "name": "python3",
      "display_name": "Python 3"
    },
    "language_info": {
      "name": "python"
    },
    "accelerator": "GPU"
  },
  "cells": [
    {
      "cell_type": "markdown",
      "metadata": {
        "id": "view-in-github",
        "colab_type": "text"
      },
      "source": [
        "<a href=\"https://colab.research.google.com/github/VSennaa/text-classification-bigdata-agnews-spark/blob/main/text_classification_bigdata_agnews.ipynb\" target=\"_parent\"><img src=\"https://colab.research.google.com/assets/colab-badge.svg\" alt=\"Open In Colab\"/></a>"
      ]
    },
    {
      "cell_type": "markdown",
      "source": [
        "https://huggingface.co/datasets/sh0416/ag_news"
      ],
      "metadata": {
        "id": "GwW2PP_O1moN"
      }
    },
    {
      "cell_type": "code",
      "source": [
        "## Spark\n",
        "from pyspark.sql import SparkSession\n",
        "from pyspark.sql.functions import col, explode, split, concat_ws\n",
        "from pyspark.ml.classification import LogisticRegression, NaiveBayes, DecisionTreeClassifier, RandomForestClassifier, LinearSVC\n",
        "from pyspark.ml.feature import Tokenizer, StopWordsRemover, RegexTokenizer, HashingTF, IDF\n",
        "from pyspark.ml.evaluation import MulticlassClassificationEvaluator\n",
        "from pyspark.ml import Pipeline\n",
        "## Keras TensorFlow\n",
        "import tensorflow as tf\n",
        "from tensorflow import keras\n",
        "from keras import layers\n",
        "from tensorflow.keras.preprocessing.text import Tokenizer\n",
        "from tensorflow.keras.preprocessing.sequence import pad_sequences\n",
        "## OutrosZ\n",
        "import pandas as pd\n",
        "import numpy as np\n",
        "import os\n",
        "import time\n",
        "\n",
        "inicio = time.time()\n"
      ],
      "metadata": {
        "id": "rRJnCLbS1q6l"
      },
      "execution_count": null,
      "outputs": []
    },
    {
      "cell_type": "markdown",
      "source": [
        "Inicizalizando o Spark\n"
      ],
      "metadata": {
        "id": "nRqi5Ik714ma"
      }
    },
    {
      "cell_type": "code",
      "source": [
        "spark = SparkSession \\\n",
        "    .builder \\\n",
        "    .appName(\"Python Spark SQL\") \\\n",
        "    .config(\"spark.some.config.option\", \"some-value\") \\\n",
        "    .getOrCreate()"
      ],
      "metadata": {
        "id": "u0Co5T7610oq"
      },
      "execution_count": null,
      "outputs": []
    },
    {
      "cell_type": "markdown",
      "source": [
        "Aquisição do dataset"
      ],
      "metadata": {
        "id": "Alh0HThcDDTH"
      }
    },
    {
      "cell_type": "code",
      "source": [
        "!wget 'https://raw.githubusercontent.com/VSennaa/text-classification-bigdata-agnews-spark/refs/heads/main/train.jsonl'\n",
        "!wget 'https://raw.githubusercontent.com/VSennaa/text-classification-bigdata-agnews-spark/refs/heads/main/test.jsonl'"
      ],
      "metadata": {
        "colab": {
          "base_uri": "https://localhost:8080/"
        },
        "id": "WhNl6aV5CBu0",
        "outputId": "6f9a24ed-1e01-4646-d4ee-36b182f07538"
      },
      "execution_count": null,
      "outputs": [
        {
          "output_type": "stream",
          "name": "stdout",
          "text": [
            "--2025-08-06 18:37:35--  https://raw.githubusercontent.com/VSennaa/text-classification-bigdata-agnews-spark/refs/heads/main/train.jsonl\n",
            "Resolving raw.githubusercontent.com (raw.githubusercontent.com)... 185.199.108.133, 185.199.109.133, 185.199.110.133, ...\n",
            "Connecting to raw.githubusercontent.com (raw.githubusercontent.com)|185.199.108.133|:443... connected.\n",
            "HTTP request sent, awaiting response... 200 OK\n",
            "Length: 33697315 (32M) [text/plain]\n",
            "Saving to: ‘train.jsonl’\n",
            "\n",
            "train.jsonl         100%[===================>]  32.14M  --.-KB/s    in 0.1s    \n",
            "\n",
            "2025-08-06 18:37:36 (301 MB/s) - ‘train.jsonl’ saved [33697315/33697315]\n",
            "\n",
            "--2025-08-06 18:37:36--  https://raw.githubusercontent.com/VSennaa/text-classification-bigdata-agnews-spark/refs/heads/main/test.jsonl\n",
            "Resolving raw.githubusercontent.com (raw.githubusercontent.com)... 185.199.108.133, 185.199.109.133, 185.199.110.133, ...\n",
            "Connecting to raw.githubusercontent.com (raw.githubusercontent.com)|185.199.108.133|:443... connected.\n",
            "HTTP request sent, awaiting response... 200 OK\n",
            "Length: 2125097 (2.0M) [text/plain]\n",
            "Saving to: ‘test.jsonl’\n",
            "\n",
            "test.jsonl          100%[===================>]   2.03M  --.-KB/s    in 0.03s   \n",
            "\n",
            "2025-08-06 18:37:37 (67.1 MB/s) - ‘test.jsonl’ saved [2125097/2125097]\n",
            "\n"
          ]
        }
      ]
    },
    {
      "cell_type": "code",
      "source": [
        "df_train = spark.read.json(\"/content/train.jsonl\")\n",
        "df_test = spark.read.json(\"/content/test.jsonl\")"
      ],
      "metadata": {
        "id": "pXQjOVuJ1mb0"
      },
      "execution_count": null,
      "outputs": []
    },
    {
      "cell_type": "code",
      "execution_count": null,
      "metadata": {
        "colab": {
          "base_uri": "https://localhost:8080/"
        },
        "id": "_tyjWvxqy_YG",
        "outputId": "d6210cc8-8b86-436c-aeac-8a42412c391f"
      },
      "outputs": [
        {
          "output_type": "stream",
          "name": "stdout",
          "text": [
            "+--------------------+-----+--------------------+\n",
            "|         description|label|               title|\n",
            "+--------------------+-----+--------------------+\n",
            "|Reuters - Short-s...|    3|Wall St. Bears Cl...|\n",
            "|Reuters - Private...|    3|Carlyle Looks Tow...|\n",
            "|Reuters - Soaring...|    3|Oil and Economy C...|\n",
            "|Reuters - Authori...|    3|Iraq Halts Oil Ex...|\n",
            "|AFP - Tearaway wo...|    3|Oil prices soar t...|\n",
            "|Reuters - Stocks ...|    3|Stocks End Up, Bu...|\n",
            "|AP - Assets of th...|    3|Money Funds Fell ...|\n",
            "|USATODAY.com - Re...|    3|Fed minutes show ...|\n",
            "|Forbes.com - Afte...|    3|Safety Net (Forbe...|\n",
            "| NEW YORK (Reuter...|    3|Wall St. Bears Cl...|\n",
            "| NEW YORK (Reuter...|    3|Oil and Economy C...|\n",
            "| TEHRAN (Reuters)...|    3|No Need for OPEC ...|\n",
            "| JAKARTA (Reuters...|    3|Non-OPEC Nations ...|\n",
            "| WASHINGTON/NEW Y...|    3|Google IPO Auctio...|\n",
            "| NEW YORK (Reuter...|    3|Dollar Falls Broa...|\n",
            "|If you think you ...|    3|Rescuing an Old S...|\n",
            "|The purchasing po...|    3|Kids Rule for Bac...|\n",
            "|There is little c...|    3|In a Down Market,...|\n",
            "|The US trade defi...|    3|US trade deficit ...|\n",
            "|Oil giant Shell c...|    3|Shell 'could be t...|\n",
            "+--------------------+-----+--------------------+\n",
            "only showing top 20 rows\n",
            "\n"
          ]
        }
      ],
      "source": [
        "df_train.show()"
      ]
    },
    {
      "cell_type": "code",
      "source": [
        "df_train.select(\"description\").show()"
      ],
      "metadata": {
        "colab": {
          "base_uri": "https://localhost:8080/"
        },
        "id": "wb7Qmn_uDQ1G",
        "outputId": "c3f99d0d-682c-4f76-83e8-23a0d10210ac"
      },
      "execution_count": null,
      "outputs": [
        {
          "output_type": "stream",
          "name": "stdout",
          "text": [
            "+--------------------+\n",
            "|         description|\n",
            "+--------------------+\n",
            "|Reuters - Short-s...|\n",
            "|Reuters - Private...|\n",
            "|Reuters - Soaring...|\n",
            "|Reuters - Authori...|\n",
            "|AFP - Tearaway wo...|\n",
            "|Reuters - Stocks ...|\n",
            "|AP - Assets of th...|\n",
            "|USATODAY.com - Re...|\n",
            "|Forbes.com - Afte...|\n",
            "| NEW YORK (Reuter...|\n",
            "| NEW YORK (Reuter...|\n",
            "| TEHRAN (Reuters)...|\n",
            "| JAKARTA (Reuters...|\n",
            "| WASHINGTON/NEW Y...|\n",
            "| NEW YORK (Reuter...|\n",
            "|If you think you ...|\n",
            "|The purchasing po...|\n",
            "|There is little c...|\n",
            "|The US trade defi...|\n",
            "|Oil giant Shell c...|\n",
            "+--------------------+\n",
            "only showing top 20 rows\n",
            "\n"
          ]
        }
      ]
    },
    {
      "cell_type": "markdown",
      "source": [
        "Verificando os caracteres para garantir que não haja necessidade de limpeza"
      ],
      "metadata": {
        "id": "z6rDqWc-a-U0"
      }
    },
    {
      "cell_type": "code",
      "source": [
        "unique_chars = set()\n",
        "columns_to_check = [\"description\", \"title\"]\n",
        "dataframes = {'train': df_train, 'test': df_test}\n",
        "\n",
        "for split_name, dataframe in dataframes.items():\n",
        "    for column_name in columns_to_check:\n",
        "        chars_df = dataframe.select(split(col(column_name), \"\").alias(\"chars\"))\n",
        "        exploded_chars_df = chars_df.select(explode(col(\"chars\")).alias(\"char\"))\n",
        "        collected_chars = exploded_chars_df.select(\"char\").distinct().collect()\n",
        "        for row in collected_chars:\n",
        "            unique_chars.add(row.char)\n",
        "\n",
        "print(\"\".join(sorted(list(unique_chars))))"
      ],
      "metadata": {
        "colab": {
          "base_uri": "https://localhost:8080/"
        },
        "id": "XQ-z1xMoDfxN",
        "outputId": "de6d5cad-60ba-479d-9b85-c7fb14395ec7"
      },
      "execution_count": null,
      "outputs": [
        {
          "output_type": "stream",
          "name": "stdout",
          "text": [
            " !\"#$&'()*,-./0123456789:;=?ABCDEFGHIJKLMNOPQRSTUVWXYZ\\_abcdefghijklmnopqrstuvwxyz\n"
          ]
        }
      ]
    },
    {
      "cell_type": "markdown",
      "source": [
        "Tokenização"
      ],
      "metadata": {
        "id": "a8q_zjKBfTg_"
      }
    },
    {
      "cell_type": "code",
      "source": [
        "#adicionar coluna text\n",
        "df_train = df_train.withColumn(\"text\", concat_ws(\" \", \"title\", \"description\"))\n",
        "df_test = df_test.withColumn(\"text\", concat_ws(\" \", \"title\", \"description\"))\n",
        "df_train.describe().show()"
      ],
      "metadata": {
        "colab": {
          "base_uri": "https://localhost:8080/"
        },
        "id": "uD_1RsdzfV9B",
        "outputId": "c058c92f-a246-447d-c530-cb0eb2bf2864"
      },
      "execution_count": null,
      "outputs": [
        {
          "output_type": "stream",
          "name": "stdout",
          "text": [
            "+-------+--------------------+-----------------+--------------------+--------------------+\n",
            "|summary|         description|            label|               title|                text|\n",
            "+-------+--------------------+-----------------+--------------------+--------------------+\n",
            "|  count|              120000|           120000|              120000|              120000|\n",
            "|   mean|                NULL|              2.5|                NULL|                NULL|\n",
            "| stddev|                NULL|1.118038647253962|                NULL|                NULL|\n",
            "|    min|    1 Southern Ca...|                1| #147;Generic Sup...| #147;Generic Sup...|\n",
            "|    max|you know, writing...|                4|worm has turned f...|worm has turned f...|\n",
            "+-------+--------------------+-----------------+--------------------+--------------------+\n",
            "\n"
          ]
        }
      ]
    },
    {
      "cell_type": "code",
      "source": [
        "tokenizer = RegexTokenizer(inputCol=\"text\", outputCol=\"tokens\", pattern=\"\\\\W+\")\n",
        "tokenized_df = tokenizer.transform(df_train)\n",
        "stopwords_remover = StopWordsRemover(inputCol=\"tokens\", outputCol=\"filtered_tokens\")\n",
        "filtered_df = stopwords_remover.transform(tokenized_df)"
      ],
      "metadata": {
        "id": "daqkuaTVf0ei"
      },
      "execution_count": null,
      "outputs": []
    },
    {
      "cell_type": "code",
      "source": [
        "hashing = HashingTF(\n",
        "    inputCol=\"filtered_tokens\",\n",
        "    outputCol=\"features\",\n",
        "    numFeatures=10000\n",
        ")\n",
        "features_df = hashing.transform(filtered_df)"
      ],
      "metadata": {
        "id": "y81f5UaekKPR"
      },
      "execution_count": null,
      "outputs": []
    },
    {
      "cell_type": "code",
      "source": [
        "idf = IDF(inputCol=\"features\", outputCol=\"idf_features\")\n",
        "idf_model = idf.fit(features_df)\n",
        "idf_df = idf_model.transform(features_df)\n",
        "idf_df.show()"
      ],
      "metadata": {
        "colab": {
          "base_uri": "https://localhost:8080/"
        },
        "id": "6YYx8gwtk7rP",
        "outputId": "9e11d8b3-caab-4d96-b516-9a4d99c8a5b3"
      },
      "execution_count": null,
      "outputs": [
        {
          "output_type": "stream",
          "name": "stdout",
          "text": [
            "+--------------------+-----+--------------------+--------------------+--------------------+--------------------+--------------------+--------------------+\n",
            "|         description|label|               title|                text|              tokens|     filtered_tokens|            features|        idf_features|\n",
            "+--------------------+-----+--------------------+--------------------+--------------------+--------------------+--------------------+--------------------+\n",
            "|Reuters - Short-s...|    3|Wall St. Bears Cl...|Wall St. Bears Cl...|[wall, st, bears,...|[wall, st, bears,...|(10000,[551,662,1...|(10000,[551,662,1...|\n",
            "|Reuters - Private...|    3|Carlyle Looks Tow...|Carlyle Looks Tow...|[carlyle, looks, ...|[carlyle, looks, ...|(10000,[157,1030,...|(10000,[157,1030,...|\n",
            "|Reuters - Soaring...|    3|Oil and Economy C...|Oil and Economy C...|[oil, and, econom...|[oil, economy, cl...|(10000,[217,532,6...|(10000,[217,532,6...|\n",
            "|Reuters - Authori...|    3|Iraq Halts Oil Ex...|Iraq Halts Oil Ex...|[iraq, halts, oil...|[iraq, halts, oil...|(10000,[1603,1611...|(10000,[1603,1611...|\n",
            "|AFP - Tearaway wo...|    3|Oil prices soar t...|Oil prices soar t...|[oil, prices, soa...|[oil, prices, soa...|(10000,[217,524,5...|(10000,[217,524,5...|\n",
            "|Reuters - Stocks ...|    3|Stocks End Up, Bu...|Stocks End Up, Bu...|[stocks, end, up,...|[stocks, end, nea...|(10000,[1,453,649...|(10000,[1,453,649...|\n",
            "|AP - Assets of th...|    3|Money Funds Fell ...|Money Funds Fell ...|[money, funds, fe...|[money, funds, fe...|(10000,[258,444,9...|(10000,[258,444,9...|\n",
            "|USATODAY.com - Re...|    3|Fed minutes show ...|Fed minutes show ...|[fed, minutes, sh...|[fed, minutes, sh...|(10000,[2,14,217,...|(10000,[2,14,217,...|\n",
            "|Forbes.com - Afte...|    3|Safety Net (Forbe...|Safety Net (Forbe...|[safety, net, for...|[safety, net, for...|(10000,[178,231,5...|(10000,[178,231,5...|\n",
            "| NEW YORK (Reuter...|    3|Wall St. Bears Cl...|Wall St. Bears Cl...|[wall, st, bears,...|[wall, st, bears,...|(10000,[360,551,5...|(10000,[360,551,5...|\n",
            "| NEW YORK (Reuter...|    3|Oil and Economy C...|Oil and Economy C...|[oil, and, econom...|[oil, economy, cl...|(10000,[217,360,5...|(10000,[217,360,5...|\n",
            "| TEHRAN (Reuters)...|    3|No Need for OPEC ...|No Need for OPEC ...|[no, need, for, o...|[need, opec, pump...|(10000,[298,594,6...|(10000,[298,594,6...|\n",
            "| JAKARTA (Reuters...|    3|Non-OPEC Nations ...|Non-OPEC Nations ...|[non, opec, natio...|[non, opec, natio...|(10000,[312,616,1...|(10000,[312,616,1...|\n",
            "| WASHINGTON/NEW Y...|    3|Google IPO Auctio...|Google IPO Auctio...|[google, ipo, auc...|[google, ipo, auc...|(10000,[360,432,4...|(10000,[360,432,4...|\n",
            "| NEW YORK (Reuter...|    3|Dollar Falls Broa...|Dollar Falls Broa...|[dollar, falls, b...|[dollar, falls, b...|(10000,[217,360,4...|(10000,[217,360,4...|\n",
            "|If you think you ...|    3|Rescuing an Old S...|Rescuing an Old S...|[rescuing, an, ol...|[rescuing, old, s...|(10000,[813,1041,...|(10000,[813,1041,...|\n",
            "|The purchasing po...|    3|Kids Rule for Bac...|Kids Rule for Bac...|[kids, rule, for,...|[kids, rule, back...|(10000,[343,2198,...|(10000,[343,2198,...|\n",
            "|There is little c...|    3|In a Down Market,...|In a Down Market,...|[in, a, down, mar...|[market, head, to...|(10000,[316,320,7...|(10000,[316,320,7...|\n",
            "|The US trade defi...|    3|US trade deficit ...|US trade deficit ...|[us, trade, defic...|[us, trade, defic...|(10000,[135,419,4...|(10000,[135,419,4...|\n",
            "|Oil giant Shell c...|    3|Shell 'could be t...|Shell 'could be t...|[shell, could, be...|[shell, target, t...|(10000,[503,1336,...|(10000,[503,1336,...|\n",
            "+--------------------+-----+--------------------+--------------------+--------------------+--------------------+--------------------+--------------------+\n",
            "only showing top 20 rows\n",
            "\n"
          ]
        }
      ]
    },
    {
      "cell_type": "markdown",
      "source": [
        "### MLLIB"
      ],
      "metadata": {
        "id": "BA2hTd0rlGOj"
      }
    },
    {
      "cell_type": "code",
      "source": [
        "lr = LogisticRegression(featuresCol=\"idf_features\", labelCol=\"label\")\n",
        "nv = NaiveBayes(featuresCol=\"idf_features\", labelCol=\"label\")\n",
        "dt = DecisionTreeClassifier(featuresCol=\"idf_features\", labelCol=\"label\")\n",
        "rf = RandomForestClassifier(featuresCol=\"idf_features\", labelCol=\"label\")\n",
        "svm = LinearSVC(featuresCol=\"idf_features\", labelCol=\"label\")"
      ],
      "metadata": {
        "id": "qPLZjgnKlG6K"
      },
      "execution_count": null,
      "outputs": []
    },
    {
      "cell_type": "markdown",
      "source": [
        "Montar o Pipeline"
      ],
      "metadata": {
        "id": "LKkbxxorlefF"
      }
    },
    {
      "cell_type": "code",
      "source": [
        "models = [lr, nv, dt, rf]\n",
        "\n",
        " # Laço de treino e teste\n",
        "acuracias = {}\n",
        "for model in models:\n",
        "  print(f\"Training {type(model).__name__} model...\")\n",
        "  pipeline = Pipeline(stages=[tokenizer,\n",
        "                              stopwords_remover,\n",
        "                              hashing,\n",
        "                              idf,\n",
        "                              model\n",
        "                              ])\n",
        "  pipeline_model = pipeline.fit(df_train)\n",
        "  predictions_df = pipeline_model.transform(df_test)\n",
        "  evaluator = MulticlassClassificationEvaluator(\n",
        "      labelCol=\"label\",\n",
        "      predictionCol=\"prediction\",\n",
        "      metricName=\"accuracy\"\n",
        "  )\n",
        "  acuracias[type(model).__name__] = evaluator.evaluate(predictions_df)\n",
        "  print(f\"{type(model).__name__} model accuracy: {acuracias[type(model).__name__]}\")"
      ],
      "metadata": {
        "colab": {
          "base_uri": "https://localhost:8080/"
        },
        "id": "mecW9DV2lSL9",
        "outputId": "511501c0-08c7-46fa-de9e-0598f7083747"
      },
      "execution_count": null,
      "outputs": [
        {
          "output_type": "stream",
          "name": "stdout",
          "text": [
            "Training LogisticRegression model...\n",
            "LogisticRegression model accuracy: 0.8226315789473684\n",
            "Training NaiveBayes model...\n",
            "NaiveBayes model accuracy: 0.038684210526315786\n",
            "Training DecisionTreeClassifier model...\n",
            "DecisionTreeClassifier model accuracy: 0.36276315789473684\n",
            "Training RandomForestClassifier model...\n",
            "RandomForestClassifier model accuracy: 0.6332894736842105\n"
          ]
        }
      ]
    },
    {
      "cell_type": "markdown",
      "source": [
        "### Resultados\n",
        "Eu prefiro a apresentação do pandas, então passei pra um dataframe dele"
      ],
      "metadata": {
        "id": "4G1Dx7vZqq4b"
      }
    },
    {
      "cell_type": "code",
      "source": [
        "pddf_acc = pd.DataFrame(acuracias.items(), columns=['Modelo', 'Acuracia'])\n",
        "pddf_acc"
      ],
      "metadata": {
        "id": "GCrvM1XqmVQr",
        "colab": {
          "base_uri": "https://localhost:8080/",
          "height": 175
        },
        "outputId": "de535dc0-a775-4402-8f9b-97f2d8e635c7"
      },
      "execution_count": null,
      "outputs": [
        {
          "output_type": "execute_result",
          "data": {
            "text/plain": [
              "                   Modelo  Acuracia\n",
              "0      LogisticRegression  0.822632\n",
              "1              NaiveBayes  0.038684\n",
              "2  DecisionTreeClassifier  0.362763\n",
              "3  RandomForestClassifier  0.633289"
            ],
            "text/html": [
              "\n",
              "  <div id=\"df-7554d543-62b1-4706-bb41-0d38cfb27fab\" class=\"colab-df-container\">\n",
              "    <div>\n",
              "<style scoped>\n",
              "    .dataframe tbody tr th:only-of-type {\n",
              "        vertical-align: middle;\n",
              "    }\n",
              "\n",
              "    .dataframe tbody tr th {\n",
              "        vertical-align: top;\n",
              "    }\n",
              "\n",
              "    .dataframe thead th {\n",
              "        text-align: right;\n",
              "    }\n",
              "</style>\n",
              "<table border=\"1\" class=\"dataframe\">\n",
              "  <thead>\n",
              "    <tr style=\"text-align: right;\">\n",
              "      <th></th>\n",
              "      <th>Modelo</th>\n",
              "      <th>Acuracia</th>\n",
              "    </tr>\n",
              "  </thead>\n",
              "  <tbody>\n",
              "    <tr>\n",
              "      <th>0</th>\n",
              "      <td>LogisticRegression</td>\n",
              "      <td>0.822632</td>\n",
              "    </tr>\n",
              "    <tr>\n",
              "      <th>1</th>\n",
              "      <td>NaiveBayes</td>\n",
              "      <td>0.038684</td>\n",
              "    </tr>\n",
              "    <tr>\n",
              "      <th>2</th>\n",
              "      <td>DecisionTreeClassifier</td>\n",
              "      <td>0.362763</td>\n",
              "    </tr>\n",
              "    <tr>\n",
              "      <th>3</th>\n",
              "      <td>RandomForestClassifier</td>\n",
              "      <td>0.633289</td>\n",
              "    </tr>\n",
              "  </tbody>\n",
              "</table>\n",
              "</div>\n",
              "    <div class=\"colab-df-buttons\">\n",
              "\n",
              "  <div class=\"colab-df-container\">\n",
              "    <button class=\"colab-df-convert\" onclick=\"convertToInteractive('df-7554d543-62b1-4706-bb41-0d38cfb27fab')\"\n",
              "            title=\"Convert this dataframe to an interactive table.\"\n",
              "            style=\"display:none;\">\n",
              "\n",
              "  <svg xmlns=\"http://www.w3.org/2000/svg\" height=\"24px\" viewBox=\"0 -960 960 960\">\n",
              "    <path d=\"M120-120v-720h720v720H120Zm60-500h600v-160H180v160Zm220 220h160v-160H400v160Zm0 220h160v-160H400v160ZM180-400h160v-160H180v160Zm440 0h160v-160H620v160ZM180-180h160v-160H180v160Zm440 0h160v-160H620v160Z\"/>\n",
              "  </svg>\n",
              "    </button>\n",
              "\n",
              "  <style>\n",
              "    .colab-df-container {\n",
              "      display:flex;\n",
              "      gap: 12px;\n",
              "    }\n",
              "\n",
              "    .colab-df-convert {\n",
              "      background-color: #E8F0FE;\n",
              "      border: none;\n",
              "      border-radius: 50%;\n",
              "      cursor: pointer;\n",
              "      display: none;\n",
              "      fill: #1967D2;\n",
              "      height: 32px;\n",
              "      padding: 0 0 0 0;\n",
              "      width: 32px;\n",
              "    }\n",
              "\n",
              "    .colab-df-convert:hover {\n",
              "      background-color: #E2EBFA;\n",
              "      box-shadow: 0px 1px 2px rgba(60, 64, 67, 0.3), 0px 1px 3px 1px rgba(60, 64, 67, 0.15);\n",
              "      fill: #174EA6;\n",
              "    }\n",
              "\n",
              "    .colab-df-buttons div {\n",
              "      margin-bottom: 4px;\n",
              "    }\n",
              "\n",
              "    [theme=dark] .colab-df-convert {\n",
              "      background-color: #3B4455;\n",
              "      fill: #D2E3FC;\n",
              "    }\n",
              "\n",
              "    [theme=dark] .colab-df-convert:hover {\n",
              "      background-color: #434B5C;\n",
              "      box-shadow: 0px 1px 3px 1px rgba(0, 0, 0, 0.15);\n",
              "      filter: drop-shadow(0px 1px 2px rgba(0, 0, 0, 0.3));\n",
              "      fill: #FFFFFF;\n",
              "    }\n",
              "  </style>\n",
              "\n",
              "    <script>\n",
              "      const buttonEl =\n",
              "        document.querySelector('#df-7554d543-62b1-4706-bb41-0d38cfb27fab button.colab-df-convert');\n",
              "      buttonEl.style.display =\n",
              "        google.colab.kernel.accessAllowed ? 'block' : 'none';\n",
              "\n",
              "      async function convertToInteractive(key) {\n",
              "        const element = document.querySelector('#df-7554d543-62b1-4706-bb41-0d38cfb27fab');\n",
              "        const dataTable =\n",
              "          await google.colab.kernel.invokeFunction('convertToInteractive',\n",
              "                                                    [key], {});\n",
              "        if (!dataTable) return;\n",
              "\n",
              "        const docLinkHtml = 'Like what you see? Visit the ' +\n",
              "          '<a target=\"_blank\" href=https://colab.research.google.com/notebooks/data_table.ipynb>data table notebook</a>'\n",
              "          + ' to learn more about interactive tables.';\n",
              "        element.innerHTML = '';\n",
              "        dataTable['output_type'] = 'display_data';\n",
              "        await google.colab.output.renderOutput(dataTable, element);\n",
              "        const docLink = document.createElement('div');\n",
              "        docLink.innerHTML = docLinkHtml;\n",
              "        element.appendChild(docLink);\n",
              "      }\n",
              "    </script>\n",
              "  </div>\n",
              "\n",
              "\n",
              "    <div id=\"df-3074fbf7-3a20-43a7-bfcb-6546eac6e939\">\n",
              "      <button class=\"colab-df-quickchart\" onclick=\"quickchart('df-3074fbf7-3a20-43a7-bfcb-6546eac6e939')\"\n",
              "                title=\"Suggest charts\"\n",
              "                style=\"display:none;\">\n",
              "\n",
              "<svg xmlns=\"http://www.w3.org/2000/svg\" height=\"24px\"viewBox=\"0 0 24 24\"\n",
              "     width=\"24px\">\n",
              "    <g>\n",
              "        <path d=\"M19 3H5c-1.1 0-2 .9-2 2v14c0 1.1.9 2 2 2h14c1.1 0 2-.9 2-2V5c0-1.1-.9-2-2-2zM9 17H7v-7h2v7zm4 0h-2V7h2v10zm4 0h-2v-4h2v4z\"/>\n",
              "    </g>\n",
              "</svg>\n",
              "      </button>\n",
              "\n",
              "<style>\n",
              "  .colab-df-quickchart {\n",
              "      --bg-color: #E8F0FE;\n",
              "      --fill-color: #1967D2;\n",
              "      --hover-bg-color: #E2EBFA;\n",
              "      --hover-fill-color: #174EA6;\n",
              "      --disabled-fill-color: #AAA;\n",
              "      --disabled-bg-color: #DDD;\n",
              "  }\n",
              "\n",
              "  [theme=dark] .colab-df-quickchart {\n",
              "      --bg-color: #3B4455;\n",
              "      --fill-color: #D2E3FC;\n",
              "      --hover-bg-color: #434B5C;\n",
              "      --hover-fill-color: #FFFFFF;\n",
              "      --disabled-bg-color: #3B4455;\n",
              "      --disabled-fill-color: #666;\n",
              "  }\n",
              "\n",
              "  .colab-df-quickchart {\n",
              "    background-color: var(--bg-color);\n",
              "    border: none;\n",
              "    border-radius: 50%;\n",
              "    cursor: pointer;\n",
              "    display: none;\n",
              "    fill: var(--fill-color);\n",
              "    height: 32px;\n",
              "    padding: 0;\n",
              "    width: 32px;\n",
              "  }\n",
              "\n",
              "  .colab-df-quickchart:hover {\n",
              "    background-color: var(--hover-bg-color);\n",
              "    box-shadow: 0 1px 2px rgba(60, 64, 67, 0.3), 0 1px 3px 1px rgba(60, 64, 67, 0.15);\n",
              "    fill: var(--button-hover-fill-color);\n",
              "  }\n",
              "\n",
              "  .colab-df-quickchart-complete:disabled,\n",
              "  .colab-df-quickchart-complete:disabled:hover {\n",
              "    background-color: var(--disabled-bg-color);\n",
              "    fill: var(--disabled-fill-color);\n",
              "    box-shadow: none;\n",
              "  }\n",
              "\n",
              "  .colab-df-spinner {\n",
              "    border: 2px solid var(--fill-color);\n",
              "    border-color: transparent;\n",
              "    border-bottom-color: var(--fill-color);\n",
              "    animation:\n",
              "      spin 1s steps(1) infinite;\n",
              "  }\n",
              "\n",
              "  @keyframes spin {\n",
              "    0% {\n",
              "      border-color: transparent;\n",
              "      border-bottom-color: var(--fill-color);\n",
              "      border-left-color: var(--fill-color);\n",
              "    }\n",
              "    20% {\n",
              "      border-color: transparent;\n",
              "      border-left-color: var(--fill-color);\n",
              "      border-top-color: var(--fill-color);\n",
              "    }\n",
              "    30% {\n",
              "      border-color: transparent;\n",
              "      border-left-color: var(--fill-color);\n",
              "      border-top-color: var(--fill-color);\n",
              "      border-right-color: var(--fill-color);\n",
              "    }\n",
              "    40% {\n",
              "      border-color: transparent;\n",
              "      border-right-color: var(--fill-color);\n",
              "      border-top-color: var(--fill-color);\n",
              "    }\n",
              "    60% {\n",
              "      border-color: transparent;\n",
              "      border-right-color: var(--fill-color);\n",
              "    }\n",
              "    80% {\n",
              "      border-color: transparent;\n",
              "      border-right-color: var(--fill-color);\n",
              "      border-bottom-color: var(--fill-color);\n",
              "    }\n",
              "    90% {\n",
              "      border-color: transparent;\n",
              "      border-bottom-color: var(--fill-color);\n",
              "    }\n",
              "  }\n",
              "</style>\n",
              "\n",
              "      <script>\n",
              "        async function quickchart(key) {\n",
              "          const quickchartButtonEl =\n",
              "            document.querySelector('#' + key + ' button');\n",
              "          quickchartButtonEl.disabled = true;  // To prevent multiple clicks.\n",
              "          quickchartButtonEl.classList.add('colab-df-spinner');\n",
              "          try {\n",
              "            const charts = await google.colab.kernel.invokeFunction(\n",
              "                'suggestCharts', [key], {});\n",
              "          } catch (error) {\n",
              "            console.error('Error during call to suggestCharts:', error);\n",
              "          }\n",
              "          quickchartButtonEl.classList.remove('colab-df-spinner');\n",
              "          quickchartButtonEl.classList.add('colab-df-quickchart-complete');\n",
              "        }\n",
              "        (() => {\n",
              "          let quickchartButtonEl =\n",
              "            document.querySelector('#df-3074fbf7-3a20-43a7-bfcb-6546eac6e939 button');\n",
              "          quickchartButtonEl.style.display =\n",
              "            google.colab.kernel.accessAllowed ? 'block' : 'none';\n",
              "        })();\n",
              "      </script>\n",
              "    </div>\n",
              "\n",
              "  <div id=\"id_76cd7eb2-e71a-4c79-95ce-eceb56c3cba3\">\n",
              "    <style>\n",
              "      .colab-df-generate {\n",
              "        background-color: #E8F0FE;\n",
              "        border: none;\n",
              "        border-radius: 50%;\n",
              "        cursor: pointer;\n",
              "        display: none;\n",
              "        fill: #1967D2;\n",
              "        height: 32px;\n",
              "        padding: 0 0 0 0;\n",
              "        width: 32px;\n",
              "      }\n",
              "\n",
              "      .colab-df-generate:hover {\n",
              "        background-color: #E2EBFA;\n",
              "        box-shadow: 0px 1px 2px rgba(60, 64, 67, 0.3), 0px 1px 3px 1px rgba(60, 64, 67, 0.15);\n",
              "        fill: #174EA6;\n",
              "      }\n",
              "\n",
              "      [theme=dark] .colab-df-generate {\n",
              "        background-color: #3B4455;\n",
              "        fill: #D2E3FC;\n",
              "      }\n",
              "\n",
              "      [theme=dark] .colab-df-generate:hover {\n",
              "        background-color: #434B5C;\n",
              "        box-shadow: 0px 1px 3px 1px rgba(0, 0, 0, 0.15);\n",
              "        filter: drop-shadow(0px 1px 2px rgba(0, 0, 0, 0.3));\n",
              "        fill: #FFFFFF;\n",
              "      }\n",
              "    </style>\n",
              "    <button class=\"colab-df-generate\" onclick=\"generateWithVariable('pddf_acc')\"\n",
              "            title=\"Generate code using this dataframe.\"\n",
              "            style=\"display:none;\">\n",
              "\n",
              "  <svg xmlns=\"http://www.w3.org/2000/svg\" height=\"24px\"viewBox=\"0 0 24 24\"\n",
              "       width=\"24px\">\n",
              "    <path d=\"M7,19H8.4L18.45,9,17,7.55,7,17.6ZM5,21V16.75L18.45,3.32a2,2,0,0,1,2.83,0l1.4,1.43a1.91,1.91,0,0,1,.58,1.4,1.91,1.91,0,0,1-.58,1.4L9.25,21ZM18.45,9,17,7.55Zm-12,3A5.31,5.31,0,0,0,4.9,8.1,5.31,5.31,0,0,0,1,6.5,5.31,5.31,0,0,0,4.9,4.9,5.31,5.31,0,0,0,6.5,1,5.31,5.31,0,0,0,8.1,4.9,5.31,5.31,0,0,0,12,6.5,5.46,5.46,0,0,0,6.5,12Z\"/>\n",
              "  </svg>\n",
              "    </button>\n",
              "    <script>\n",
              "      (() => {\n",
              "      const buttonEl =\n",
              "        document.querySelector('#id_76cd7eb2-e71a-4c79-95ce-eceb56c3cba3 button.colab-df-generate');\n",
              "      buttonEl.style.display =\n",
              "        google.colab.kernel.accessAllowed ? 'block' : 'none';\n",
              "\n",
              "      buttonEl.onclick = () => {\n",
              "        google.colab.notebook.generateWithVariable('pddf_acc');\n",
              "      }\n",
              "      })();\n",
              "    </script>\n",
              "  </div>\n",
              "\n",
              "    </div>\n",
              "  </div>\n"
            ],
            "application/vnd.google.colaboratory.intrinsic+json": {
              "type": "dataframe",
              "variable_name": "pddf_acc",
              "summary": "{\n  \"name\": \"pddf_acc\",\n  \"rows\": 4,\n  \"fields\": [\n    {\n      \"column\": \"Modelo\",\n      \"properties\": {\n        \"dtype\": \"string\",\n        \"num_unique_values\": 4,\n        \"samples\": [\n          \"NaiveBayes\",\n          \"RandomForestClassifier\",\n          \"LogisticRegression\"\n        ],\n        \"semantic_type\": \"\",\n        \"description\": \"\"\n      }\n    },\n    {\n      \"column\": \"Acuracia\",\n      \"properties\": {\n        \"dtype\": \"number\",\n        \"std\": 0.3407919630065555,\n        \"min\": 0.038684210526315786,\n        \"max\": 0.8226315789473684,\n        \"num_unique_values\": 4,\n        \"samples\": [\n          0.038684210526315786,\n          0.6332894736842105,\n          0.8226315789473684\n        ],\n        \"semantic_type\": \"\",\n        \"description\": \"\"\n      }\n    }\n  ]\n}"
            }
          },
          "metadata": {},
          "execution_count": 15
        }
      ]
    },
    {
      "cell_type": "markdown",
      "source": [
        "### DeepLearning"
      ],
      "metadata": {
        "id": "3OzVjM2EOopq"
      }
    },
    {
      "cell_type": "code",
      "source": [
        "raw_keras_train = df_train.select(\"text\").toPandas().to_dict()\n",
        "raw_keras_test = df_test.select(\"text\").toPandas().to_dict()"
      ],
      "metadata": {
        "id": "KFrt2089OwH7"
      },
      "execution_count": null,
      "outputs": []
    },
    {
      "cell_type": "code",
      "source": [
        "tokenizer = Tokenizer()\n",
        "tokenizer.fit_on_texts(raw_keras_train['text'].values())\n",
        "\n",
        "train_sequences = tokenizer.texts_to_sequences(raw_keras_train['text'].values())\n",
        "test_sequences = tokenizer.texts_to_sequences(raw_keras_test['text'].values())\n",
        "\n",
        "pad_train_sequences = pad_sequences(train_sequences, maxlen=100)\n",
        "pad_test_sequences = pad_sequences(test_sequences, maxlen=100)"
      ],
      "metadata": {
        "id": "ZtZSgtFlt_Rb"
      },
      "execution_count": null,
      "outputs": []
    },
    {
      "cell_type": "code",
      "source": [
        "pad_train_sequences"
      ],
      "metadata": {
        "id": "NqaRCnHauoQZ",
        "colab": {
          "base_uri": "https://localhost:8080/"
        },
        "outputId": "30b70814-a5d3-40e4-a376-dbb8e3f4da73"
      },
      "execution_count": null,
      "outputs": [
        {
          "output_type": "execute_result",
          "data": {
            "text/plain": [
              "array([[    0,     0,     0, ...,  4049,   797,   332],\n",
              "       [    0,     0,     0, ...,     4,     1,   128],\n",
              "       [    0,     0,     0, ...,     1,  1214, 14993],\n",
              "       ...,\n",
              "       [    0,     0,     0, ...,   346,    65,   123],\n",
              "       [    0,     0,     0, ...,    42,    16,  1666],\n",
              "       [    0,     0,     0, ...,  2095,  3435,    72]], dtype=int32)"
            ]
          },
          "metadata": {},
          "execution_count": 18
        }
      ]
    },
    {
      "cell_type": "code",
      "source": [
        "labels = df_train.select(\"label\").toPandas().to_numpy()\n",
        "y_train = tf.keras.utils.to_categorical(labels - 1, num_classes=4)\n",
        "y_train"
      ],
      "metadata": {
        "id": "g_-BuGMpvLie",
        "colab": {
          "base_uri": "https://localhost:8080/"
        },
        "outputId": "b84a07d7-293d-46aa-9899-406143e75c49"
      },
      "execution_count": null,
      "outputs": [
        {
          "output_type": "execute_result",
          "data": {
            "text/plain": [
              "array([[0., 0., 1., 0.],\n",
              "       [0., 0., 1., 0.],\n",
              "       [0., 0., 1., 0.],\n",
              "       ...,\n",
              "       [0., 1., 0., 0.],\n",
              "       [0., 1., 0., 0.],\n",
              "       [0., 1., 0., 0.]])"
            ]
          },
          "metadata": {},
          "execution_count": 19
        }
      ]
    },
    {
      "cell_type": "code",
      "source": [
        "model = keras.models.Sequential()\n",
        "model.add(layers.Embedding(input_dim=len(tokenizer.word_index) + 1, output_dim=128))\n",
        "model.add(keras.layers.LSTM(64))\n",
        "model.add(layers.Dense(16, activation='relu'))\n",
        "model.add(layers.Dense(4, activation='softmax'))\n",
        "model.summary()"
      ],
      "metadata": {
        "id": "9QUKs7vovX9Z",
        "colab": {
          "base_uri": "https://localhost:8080/",
          "height": 267
        },
        "outputId": "0e870182-9dcb-4b42-86eb-5295feb3684c"
      },
      "execution_count": null,
      "outputs": [
        {
          "output_type": "display_data",
          "data": {
            "text/plain": [
              "\u001b[1mModel: \"sequential\"\u001b[0m\n"
            ],
            "text/html": [
              "<pre style=\"white-space:pre;overflow-x:auto;line-height:normal;font-family:Menlo,'DejaVu Sans Mono',consolas,'Courier New',monospace\"><span style=\"font-weight: bold\">Model: \"sequential\"</span>\n",
              "</pre>\n"
            ]
          },
          "metadata": {}
        },
        {
          "output_type": "display_data",
          "data": {
            "text/plain": [
              "┏━━━━━━━━━━━━━━━━━━━━━━━━━━━━━━━━━┳━━━━━━━━━━━━━━━━━━━━━━━━┳━━━━━━━━━━━━━━━┓\n",
              "┃\u001b[1m \u001b[0m\u001b[1mLayer (type)                   \u001b[0m\u001b[1m \u001b[0m┃\u001b[1m \u001b[0m\u001b[1mOutput Shape          \u001b[0m\u001b[1m \u001b[0m┃\u001b[1m \u001b[0m\u001b[1m      Param #\u001b[0m\u001b[1m \u001b[0m┃\n",
              "┡━━━━━━━━━━━━━━━━━━━━━━━━━━━━━━━━━╇━━━━━━━━━━━━━━━━━━━━━━━━╇━━━━━━━━━━━━━━━┩\n",
              "│ embedding (\u001b[38;5;33mEmbedding\u001b[0m)           │ ?                      │   \u001b[38;5;34m0\u001b[0m (unbuilt) │\n",
              "├─────────────────────────────────┼────────────────────────┼───────────────┤\n",
              "│ lstm (\u001b[38;5;33mLSTM\u001b[0m)                     │ ?                      │   \u001b[38;5;34m0\u001b[0m (unbuilt) │\n",
              "├─────────────────────────────────┼────────────────────────┼───────────────┤\n",
              "│ dense (\u001b[38;5;33mDense\u001b[0m)                   │ ?                      │   \u001b[38;5;34m0\u001b[0m (unbuilt) │\n",
              "├─────────────────────────────────┼────────────────────────┼───────────────┤\n",
              "│ dense_1 (\u001b[38;5;33mDense\u001b[0m)                 │ ?                      │   \u001b[38;5;34m0\u001b[0m (unbuilt) │\n",
              "└─────────────────────────────────┴────────────────────────┴───────────────┘\n"
            ],
            "text/html": [
              "<pre style=\"white-space:pre;overflow-x:auto;line-height:normal;font-family:Menlo,'DejaVu Sans Mono',consolas,'Courier New',monospace\">┏━━━━━━━━━━━━━━━━━━━━━━━━━━━━━━━━━┳━━━━━━━━━━━━━━━━━━━━━━━━┳━━━━━━━━━━━━━━━┓\n",
              "┃<span style=\"font-weight: bold\"> Layer (type)                    </span>┃<span style=\"font-weight: bold\"> Output Shape           </span>┃<span style=\"font-weight: bold\">       Param # </span>┃\n",
              "┡━━━━━━━━━━━━━━━━━━━━━━━━━━━━━━━━━╇━━━━━━━━━━━━━━━━━━━━━━━━╇━━━━━━━━━━━━━━━┩\n",
              "│ embedding (<span style=\"color: #0087ff; text-decoration-color: #0087ff\">Embedding</span>)           │ ?                      │   <span style=\"color: #00af00; text-decoration-color: #00af00\">0</span> (unbuilt) │\n",
              "├─────────────────────────────────┼────────────────────────┼───────────────┤\n",
              "│ lstm (<span style=\"color: #0087ff; text-decoration-color: #0087ff\">LSTM</span>)                     │ ?                      │   <span style=\"color: #00af00; text-decoration-color: #00af00\">0</span> (unbuilt) │\n",
              "├─────────────────────────────────┼────────────────────────┼───────────────┤\n",
              "│ dense (<span style=\"color: #0087ff; text-decoration-color: #0087ff\">Dense</span>)                   │ ?                      │   <span style=\"color: #00af00; text-decoration-color: #00af00\">0</span> (unbuilt) │\n",
              "├─────────────────────────────────┼────────────────────────┼───────────────┤\n",
              "│ dense_1 (<span style=\"color: #0087ff; text-decoration-color: #0087ff\">Dense</span>)                 │ ?                      │   <span style=\"color: #00af00; text-decoration-color: #00af00\">0</span> (unbuilt) │\n",
              "└─────────────────────────────────┴────────────────────────┴───────────────┘\n",
              "</pre>\n"
            ]
          },
          "metadata": {}
        },
        {
          "output_type": "display_data",
          "data": {
            "text/plain": [
              "\u001b[1m Total params: \u001b[0m\u001b[38;5;34m0\u001b[0m (0.00 B)\n"
            ],
            "text/html": [
              "<pre style=\"white-space:pre;overflow-x:auto;line-height:normal;font-family:Menlo,'DejaVu Sans Mono',consolas,'Courier New',monospace\"><span style=\"font-weight: bold\"> Total params: </span><span style=\"color: #00af00; text-decoration-color: #00af00\">0</span> (0.00 B)\n",
              "</pre>\n"
            ]
          },
          "metadata": {}
        },
        {
          "output_type": "display_data",
          "data": {
            "text/plain": [
              "\u001b[1m Trainable params: \u001b[0m\u001b[38;5;34m0\u001b[0m (0.00 B)\n"
            ],
            "text/html": [
              "<pre style=\"white-space:pre;overflow-x:auto;line-height:normal;font-family:Menlo,'DejaVu Sans Mono',consolas,'Courier New',monospace\"><span style=\"font-weight: bold\"> Trainable params: </span><span style=\"color: #00af00; text-decoration-color: #00af00\">0</span> (0.00 B)\n",
              "</pre>\n"
            ]
          },
          "metadata": {}
        },
        {
          "output_type": "display_data",
          "data": {
            "text/plain": [
              "\u001b[1m Non-trainable params: \u001b[0m\u001b[38;5;34m0\u001b[0m (0.00 B)\n"
            ],
            "text/html": [
              "<pre style=\"white-space:pre;overflow-x:auto;line-height:normal;font-family:Menlo,'DejaVu Sans Mono',consolas,'Courier New',monospace\"><span style=\"font-weight: bold\"> Non-trainable params: </span><span style=\"color: #00af00; text-decoration-color: #00af00\">0</span> (0.00 B)\n",
              "</pre>\n"
            ]
          },
          "metadata": {}
        }
      ]
    },
    {
      "cell_type": "code",
      "source": [
        "model.compile(optimizer='adam',\n",
        "              loss='sparse_categorical_crossentropy',\n",
        "              metrics=['accuracy'])\n"
      ],
      "metadata": {
        "id": "48W9hXplGgp-"
      },
      "execution_count": null,
      "outputs": []
    },
    {
      "cell_type": "code",
      "source": [
        "history = model.fit(pad_train_sequences,\n",
        "                    labels - 1,\n",
        "                    epochs=30,\n",
        "                    batch_size=32,\n",
        "                    validation_split=0.2)"
      ],
      "metadata": {
        "id": "LN1sdUY_GzSy",
        "colab": {
          "base_uri": "https://localhost:8080/"
        },
        "outputId": "492b3e0b-113b-4759-881c-518acd7691d7"
      },
      "execution_count": null,
      "outputs": [
        {
          "output_type": "stream",
          "name": "stdout",
          "text": [
            "Epoch 1/30\n",
            "\u001b[1m3000/3000\u001b[0m \u001b[32m━━━━━━━━━━━━━━━━━━━━\u001b[0m\u001b[37m\u001b[0m \u001b[1m42s\u001b[0m 12ms/step - accuracy: 0.8039 - loss: 0.5043 - val_accuracy: 0.9033 - val_loss: 0.2870\n",
            "Epoch 2/30\n",
            "\u001b[1m3000/3000\u001b[0m \u001b[32m━━━━━━━━━━━━━━━━━━━━\u001b[0m\u001b[37m\u001b[0m \u001b[1m38s\u001b[0m 12ms/step - accuracy: 0.9429 - loss: 0.1846 - val_accuracy: 0.9033 - val_loss: 0.2924\n",
            "Epoch 3/30\n",
            "\u001b[1m3000/3000\u001b[0m \u001b[32m━━━━━━━━━━━━━━━━━━━━\u001b[0m\u001b[37m\u001b[0m \u001b[1m41s\u001b[0m 12ms/step - accuracy: 0.9605 - loss: 0.1152 - val_accuracy: 0.9007 - val_loss: 0.3305\n",
            "Epoch 4/30\n",
            "\u001b[1m3000/3000\u001b[0m \u001b[32m━━━━━━━━━━━━━━━━━━━━\u001b[0m\u001b[37m\u001b[0m \u001b[1m36s\u001b[0m 12ms/step - accuracy: 0.9766 - loss: 0.0665 - val_accuracy: 0.8969 - val_loss: 0.4043\n",
            "Epoch 5/30\n",
            "\u001b[1m3000/3000\u001b[0m \u001b[32m━━━━━━━━━━━━━━━━━━━━\u001b[0m\u001b[37m\u001b[0m \u001b[1m41s\u001b[0m 12ms/step - accuracy: 0.9850 - loss: 0.0427 - val_accuracy: 0.8946 - val_loss: 0.4562\n",
            "Epoch 6/30\n",
            "\u001b[1m3000/3000\u001b[0m \u001b[32m━━━━━━━━━━━━━━━━━━━━\u001b[0m\u001b[37m\u001b[0m \u001b[1m41s\u001b[0m 12ms/step - accuracy: 0.9912 - loss: 0.0263 - val_accuracy: 0.8917 - val_loss: 0.4904\n",
            "Epoch 7/30\n",
            "\u001b[1m3000/3000\u001b[0m \u001b[32m━━━━━━━━━━━━━━━━━━━━\u001b[0m\u001b[37m\u001b[0m \u001b[1m44s\u001b[0m 13ms/step - accuracy: 0.9935 - loss: 0.0181 - val_accuracy: 0.8883 - val_loss: 0.5291\n",
            "Epoch 8/30\n",
            "\u001b[1m3000/3000\u001b[0m \u001b[32m━━━━━━━━━━━━━━━━━━━━\u001b[0m\u001b[37m\u001b[0m \u001b[1m38s\u001b[0m 12ms/step - accuracy: 0.9948 - loss: 0.0143 - val_accuracy: 0.8890 - val_loss: 0.5693\n",
            "Epoch 9/30\n",
            "\u001b[1m3000/3000\u001b[0m \u001b[32m━━━━━━━━━━━━━━━━━━━━\u001b[0m\u001b[37m\u001b[0m \u001b[1m41s\u001b[0m 12ms/step - accuracy: 0.9956 - loss: 0.0114 - val_accuracy: 0.8868 - val_loss: 0.6052\n",
            "Epoch 10/30\n",
            "\u001b[1m3000/3000\u001b[0m \u001b[32m━━━━━━━━━━━━━━━━━━━━\u001b[0m\u001b[37m\u001b[0m \u001b[1m36s\u001b[0m 12ms/step - accuracy: 0.9966 - loss: 0.0081 - val_accuracy: 0.8895 - val_loss: 0.6196\n",
            "Epoch 11/30\n",
            "\u001b[1m3000/3000\u001b[0m \u001b[32m━━━━━━━━━━━━━━━━━━━━\u001b[0m\u001b[37m\u001b[0m \u001b[1m36s\u001b[0m 12ms/step - accuracy: 0.9974 - loss: 0.0073 - val_accuracy: 0.8868 - val_loss: 0.6902\n",
            "Epoch 12/30\n",
            "\u001b[1m3000/3000\u001b[0m \u001b[32m━━━━━━━━━━━━━━━━━━━━\u001b[0m\u001b[37m\u001b[0m \u001b[1m36s\u001b[0m 12ms/step - accuracy: 0.9974 - loss: 0.0061 - val_accuracy: 0.8794 - val_loss: 0.7369\n",
            "Epoch 13/30\n",
            "\u001b[1m3000/3000\u001b[0m \u001b[32m━━━━━━━━━━━━━━━━━━━━\u001b[0m\u001b[37m\u001b[0m \u001b[1m37s\u001b[0m 12ms/step - accuracy: 0.9976 - loss: 0.0054 - val_accuracy: 0.8859 - val_loss: 0.7691\n",
            "Epoch 14/30\n",
            "\u001b[1m3000/3000\u001b[0m \u001b[32m━━━━━━━━━━━━━━━━━━━━\u001b[0m\u001b[37m\u001b[0m \u001b[1m40s\u001b[0m 12ms/step - accuracy: 0.9977 - loss: 0.0057 - val_accuracy: 0.8840 - val_loss: 0.7568\n",
            "Epoch 15/30\n",
            "\u001b[1m3000/3000\u001b[0m \u001b[32m━━━━━━━━━━━━━━━━━━━━\u001b[0m\u001b[37m\u001b[0m \u001b[1m36s\u001b[0m 12ms/step - accuracy: 0.9981 - loss: 0.0039 - val_accuracy: 0.8857 - val_loss: 0.7673\n",
            "Epoch 16/30\n",
            "\u001b[1m3000/3000\u001b[0m \u001b[32m━━━━━━━━━━━━━━━━━━━━\u001b[0m\u001b[37m\u001b[0m \u001b[1m41s\u001b[0m 12ms/step - accuracy: 0.9982 - loss: 0.0042 - val_accuracy: 0.8810 - val_loss: 0.8184\n",
            "Epoch 17/30\n",
            "\u001b[1m3000/3000\u001b[0m \u001b[32m━━━━━━━━━━━━━━━━━━━━\u001b[0m\u001b[37m\u001b[0m \u001b[1m41s\u001b[0m 12ms/step - accuracy: 0.9982 - loss: 0.0039 - val_accuracy: 0.8781 - val_loss: 0.7878\n",
            "Epoch 18/30\n",
            "\u001b[1m3000/3000\u001b[0m \u001b[32m━━━━━━━━━━━━━━━━━━━━\u001b[0m\u001b[37m\u001b[0m \u001b[1m36s\u001b[0m 12ms/step - accuracy: 0.9988 - loss: 0.0026 - val_accuracy: 0.8802 - val_loss: 0.8586\n",
            "Epoch 19/30\n",
            "\u001b[1m3000/3000\u001b[0m \u001b[32m━━━━━━━━━━━━━━━━━━━━\u001b[0m\u001b[37m\u001b[0m \u001b[1m42s\u001b[0m 12ms/step - accuracy: 0.9986 - loss: 0.0029 - val_accuracy: 0.8796 - val_loss: 0.8596\n",
            "Epoch 20/30\n",
            "\u001b[1m3000/3000\u001b[0m \u001b[32m━━━━━━━━━━━━━━━━━━━━\u001b[0m\u001b[37m\u001b[0m \u001b[1m40s\u001b[0m 12ms/step - accuracy: 0.9984 - loss: 0.0028 - val_accuracy: 0.8784 - val_loss: 0.8586\n",
            "Epoch 21/30\n",
            "\u001b[1m3000/3000\u001b[0m \u001b[32m━━━━━━━━━━━━━━━━━━━━\u001b[0m\u001b[37m\u001b[0m \u001b[1m41s\u001b[0m 12ms/step - accuracy: 0.9988 - loss: 0.0024 - val_accuracy: 0.8826 - val_loss: 0.9584\n",
            "Epoch 22/30\n",
            "\u001b[1m3000/3000\u001b[0m \u001b[32m━━━━━━━━━━━━━━━━━━━━\u001b[0m\u001b[37m\u001b[0m \u001b[1m41s\u001b[0m 12ms/step - accuracy: 0.9989 - loss: 0.0026 - val_accuracy: 0.8791 - val_loss: 0.8569\n",
            "Epoch 23/30\n",
            "\u001b[1m3000/3000\u001b[0m \u001b[32m━━━━━━━━━━━━━━━━━━━━\u001b[0m\u001b[37m\u001b[0m \u001b[1m41s\u001b[0m 12ms/step - accuracy: 0.9987 - loss: 0.0026 - val_accuracy: 0.8810 - val_loss: 0.8656\n",
            "Epoch 24/30\n",
            "\u001b[1m3000/3000\u001b[0m \u001b[32m━━━━━━━━━━━━━━━━━━━━\u001b[0m\u001b[37m\u001b[0m \u001b[1m41s\u001b[0m 12ms/step - accuracy: 0.9989 - loss: 0.0023 - val_accuracy: 0.8773 - val_loss: 0.8240\n",
            "Epoch 25/30\n",
            "\u001b[1m3000/3000\u001b[0m \u001b[32m━━━━━━━━━━━━━━━━━━━━\u001b[0m\u001b[37m\u001b[0m \u001b[1m41s\u001b[0m 12ms/step - accuracy: 0.9988 - loss: 0.0026 - val_accuracy: 0.8794 - val_loss: 0.8256\n",
            "Epoch 26/30\n",
            "\u001b[1m3000/3000\u001b[0m \u001b[32m━━━━━━━━━━━━━━━━━━━━\u001b[0m\u001b[37m\u001b[0m \u001b[1m40s\u001b[0m 12ms/step - accuracy: 0.9990 - loss: 0.0019 - val_accuracy: 0.8817 - val_loss: 0.8546\n",
            "Epoch 27/30\n",
            "\u001b[1m3000/3000\u001b[0m \u001b[32m━━━━━━━━━━━━━━━━━━━━\u001b[0m\u001b[37m\u001b[0m \u001b[1m41s\u001b[0m 12ms/step - accuracy: 0.9992 - loss: 0.0015 - val_accuracy: 0.8798 - val_loss: 0.8170\n",
            "Epoch 28/30\n",
            "\u001b[1m3000/3000\u001b[0m \u001b[32m━━━━━━━━━━━━━━━━━━━━\u001b[0m\u001b[37m\u001b[0m \u001b[1m41s\u001b[0m 12ms/step - accuracy: 0.9990 - loss: 0.0020 - val_accuracy: 0.8784 - val_loss: 0.8543\n",
            "Epoch 29/30\n",
            "\u001b[1m3000/3000\u001b[0m \u001b[32m━━━━━━━━━━━━━━━━━━━━\u001b[0m\u001b[37m\u001b[0m \u001b[1m36s\u001b[0m 12ms/step - accuracy: 0.9991 - loss: 0.0017 - val_accuracy: 0.8770 - val_loss: 0.8423\n",
            "Epoch 30/30\n",
            "\u001b[1m3000/3000\u001b[0m \u001b[32m━━━━━━━━━━━━━━━━━━━━\u001b[0m\u001b[37m\u001b[0m \u001b[1m41s\u001b[0m 12ms/step - accuracy: 0.9991 - loss: 0.0020 - val_accuracy: 0.8798 - val_loss: 0.8856\n"
          ]
        }
      ]
    },
    {
      "cell_type": "code",
      "source": [
        "test_labels = df_test.select(\"label\").toPandas().to_numpy()\n",
        "y_test = test_labels - 1\n",
        "loss, accuracy = model.evaluate(pad_test_sequences, y_test)\n",
        "print(f\"Loss do Teste: {loss}\")\n",
        "print(f\"Acurácia do Teste: {accuracy}\")"
      ],
      "metadata": {
        "id": "3KgYRMQkG-oZ",
        "colab": {
          "base_uri": "https://localhost:8080/"
        },
        "outputId": "2a60eaf1-5bc9-4069-a26e-347fceb373a9"
      },
      "execution_count": null,
      "outputs": [
        {
          "output_type": "stream",
          "name": "stdout",
          "text": [
            "\u001b[1m238/238\u001b[0m \u001b[32m━━━━━━━━━━━━━━━━━━━━\u001b[0m\u001b[37m\u001b[0m \u001b[1m2s\u001b[0m 6ms/step - accuracy: 0.8914 - loss: 0.8545\n",
            "Loss do Teste: 0.8063768744468689\n",
            "Acurácia do Teste: 0.8936842083930969\n"
          ]
        }
      ]
    },
    {
      "cell_type": "code",
      "source": [
        "# adicionando o lstm ao datafrmae\n",
        "pddf_acc.loc[len(pddf_acc)] = ['LSTM', accuracy]\n",
        "pddf_acc"
      ],
      "metadata": {
        "colab": {
          "base_uri": "https://localhost:8080/",
          "height": 206
        },
        "id": "ywFBqQKSO2m3",
        "outputId": "69fc35d0-203d-46f1-fd10-7a8ad115325f"
      },
      "execution_count": null,
      "outputs": [
        {
          "output_type": "execute_result",
          "data": {
            "text/plain": [
              "                   Modelo  Acuracia\n",
              "0      LogisticRegression  0.822632\n",
              "1              NaiveBayes  0.038684\n",
              "2  DecisionTreeClassifier  0.362763\n",
              "3  RandomForestClassifier  0.633289\n",
              "4                    LSTM  0.893684"
            ],
            "text/html": [
              "\n",
              "  <div id=\"df-82039d77-dd41-4991-8d9b-c2ad52192353\" class=\"colab-df-container\">\n",
              "    <div>\n",
              "<style scoped>\n",
              "    .dataframe tbody tr th:only-of-type {\n",
              "        vertical-align: middle;\n",
              "    }\n",
              "\n",
              "    .dataframe tbody tr th {\n",
              "        vertical-align: top;\n",
              "    }\n",
              "\n",
              "    .dataframe thead th {\n",
              "        text-align: right;\n",
              "    }\n",
              "</style>\n",
              "<table border=\"1\" class=\"dataframe\">\n",
              "  <thead>\n",
              "    <tr style=\"text-align: right;\">\n",
              "      <th></th>\n",
              "      <th>Modelo</th>\n",
              "      <th>Acuracia</th>\n",
              "    </tr>\n",
              "  </thead>\n",
              "  <tbody>\n",
              "    <tr>\n",
              "      <th>0</th>\n",
              "      <td>LogisticRegression</td>\n",
              "      <td>0.822632</td>\n",
              "    </tr>\n",
              "    <tr>\n",
              "      <th>1</th>\n",
              "      <td>NaiveBayes</td>\n",
              "      <td>0.038684</td>\n",
              "    </tr>\n",
              "    <tr>\n",
              "      <th>2</th>\n",
              "      <td>DecisionTreeClassifier</td>\n",
              "      <td>0.362763</td>\n",
              "    </tr>\n",
              "    <tr>\n",
              "      <th>3</th>\n",
              "      <td>RandomForestClassifier</td>\n",
              "      <td>0.633289</td>\n",
              "    </tr>\n",
              "    <tr>\n",
              "      <th>4</th>\n",
              "      <td>LSTM</td>\n",
              "      <td>0.893684</td>\n",
              "    </tr>\n",
              "  </tbody>\n",
              "</table>\n",
              "</div>\n",
              "    <div class=\"colab-df-buttons\">\n",
              "\n",
              "  <div class=\"colab-df-container\">\n",
              "    <button class=\"colab-df-convert\" onclick=\"convertToInteractive('df-82039d77-dd41-4991-8d9b-c2ad52192353')\"\n",
              "            title=\"Convert this dataframe to an interactive table.\"\n",
              "            style=\"display:none;\">\n",
              "\n",
              "  <svg xmlns=\"http://www.w3.org/2000/svg\" height=\"24px\" viewBox=\"0 -960 960 960\">\n",
              "    <path d=\"M120-120v-720h720v720H120Zm60-500h600v-160H180v160Zm220 220h160v-160H400v160Zm0 220h160v-160H400v160ZM180-400h160v-160H180v160Zm440 0h160v-160H620v160ZM180-180h160v-160H180v160Zm440 0h160v-160H620v160Z\"/>\n",
              "  </svg>\n",
              "    </button>\n",
              "\n",
              "  <style>\n",
              "    .colab-df-container {\n",
              "      display:flex;\n",
              "      gap: 12px;\n",
              "    }\n",
              "\n",
              "    .colab-df-convert {\n",
              "      background-color: #E8F0FE;\n",
              "      border: none;\n",
              "      border-radius: 50%;\n",
              "      cursor: pointer;\n",
              "      display: none;\n",
              "      fill: #1967D2;\n",
              "      height: 32px;\n",
              "      padding: 0 0 0 0;\n",
              "      width: 32px;\n",
              "    }\n",
              "\n",
              "    .colab-df-convert:hover {\n",
              "      background-color: #E2EBFA;\n",
              "      box-shadow: 0px 1px 2px rgba(60, 64, 67, 0.3), 0px 1px 3px 1px rgba(60, 64, 67, 0.15);\n",
              "      fill: #174EA6;\n",
              "    }\n",
              "\n",
              "    .colab-df-buttons div {\n",
              "      margin-bottom: 4px;\n",
              "    }\n",
              "\n",
              "    [theme=dark] .colab-df-convert {\n",
              "      background-color: #3B4455;\n",
              "      fill: #D2E3FC;\n",
              "    }\n",
              "\n",
              "    [theme=dark] .colab-df-convert:hover {\n",
              "      background-color: #434B5C;\n",
              "      box-shadow: 0px 1px 3px 1px rgba(0, 0, 0, 0.15);\n",
              "      filter: drop-shadow(0px 1px 2px rgba(0, 0, 0, 0.3));\n",
              "      fill: #FFFFFF;\n",
              "    }\n",
              "  </style>\n",
              "\n",
              "    <script>\n",
              "      const buttonEl =\n",
              "        document.querySelector('#df-82039d77-dd41-4991-8d9b-c2ad52192353 button.colab-df-convert');\n",
              "      buttonEl.style.display =\n",
              "        google.colab.kernel.accessAllowed ? 'block' : 'none';\n",
              "\n",
              "      async function convertToInteractive(key) {\n",
              "        const element = document.querySelector('#df-82039d77-dd41-4991-8d9b-c2ad52192353');\n",
              "        const dataTable =\n",
              "          await google.colab.kernel.invokeFunction('convertToInteractive',\n",
              "                                                    [key], {});\n",
              "        if (!dataTable) return;\n",
              "\n",
              "        const docLinkHtml = 'Like what you see? Visit the ' +\n",
              "          '<a target=\"_blank\" href=https://colab.research.google.com/notebooks/data_table.ipynb>data table notebook</a>'\n",
              "          + ' to learn more about interactive tables.';\n",
              "        element.innerHTML = '';\n",
              "        dataTable['output_type'] = 'display_data';\n",
              "        await google.colab.output.renderOutput(dataTable, element);\n",
              "        const docLink = document.createElement('div');\n",
              "        docLink.innerHTML = docLinkHtml;\n",
              "        element.appendChild(docLink);\n",
              "      }\n",
              "    </script>\n",
              "  </div>\n",
              "\n",
              "\n",
              "    <div id=\"df-53c5dd3e-75a3-4c4c-be49-1a3984f033a5\">\n",
              "      <button class=\"colab-df-quickchart\" onclick=\"quickchart('df-53c5dd3e-75a3-4c4c-be49-1a3984f033a5')\"\n",
              "                title=\"Suggest charts\"\n",
              "                style=\"display:none;\">\n",
              "\n",
              "<svg xmlns=\"http://www.w3.org/2000/svg\" height=\"24px\"viewBox=\"0 0 24 24\"\n",
              "     width=\"24px\">\n",
              "    <g>\n",
              "        <path d=\"M19 3H5c-1.1 0-2 .9-2 2v14c0 1.1.9 2 2 2h14c1.1 0 2-.9 2-2V5c0-1.1-.9-2-2-2zM9 17H7v-7h2v7zm4 0h-2V7h2v10zm4 0h-2v-4h2v4z\"/>\n",
              "    </g>\n",
              "</svg>\n",
              "      </button>\n",
              "\n",
              "<style>\n",
              "  .colab-df-quickchart {\n",
              "      --bg-color: #E8F0FE;\n",
              "      --fill-color: #1967D2;\n",
              "      --hover-bg-color: #E2EBFA;\n",
              "      --hover-fill-color: #174EA6;\n",
              "      --disabled-fill-color: #AAA;\n",
              "      --disabled-bg-color: #DDD;\n",
              "  }\n",
              "\n",
              "  [theme=dark] .colab-df-quickchart {\n",
              "      --bg-color: #3B4455;\n",
              "      --fill-color: #D2E3FC;\n",
              "      --hover-bg-color: #434B5C;\n",
              "      --hover-fill-color: #FFFFFF;\n",
              "      --disabled-bg-color: #3B4455;\n",
              "      --disabled-fill-color: #666;\n",
              "  }\n",
              "\n",
              "  .colab-df-quickchart {\n",
              "    background-color: var(--bg-color);\n",
              "    border: none;\n",
              "    border-radius: 50%;\n",
              "    cursor: pointer;\n",
              "    display: none;\n",
              "    fill: var(--fill-color);\n",
              "    height: 32px;\n",
              "    padding: 0;\n",
              "    width: 32px;\n",
              "  }\n",
              "\n",
              "  .colab-df-quickchart:hover {\n",
              "    background-color: var(--hover-bg-color);\n",
              "    box-shadow: 0 1px 2px rgba(60, 64, 67, 0.3), 0 1px 3px 1px rgba(60, 64, 67, 0.15);\n",
              "    fill: var(--button-hover-fill-color);\n",
              "  }\n",
              "\n",
              "  .colab-df-quickchart-complete:disabled,\n",
              "  .colab-df-quickchart-complete:disabled:hover {\n",
              "    background-color: var(--disabled-bg-color);\n",
              "    fill: var(--disabled-fill-color);\n",
              "    box-shadow: none;\n",
              "  }\n",
              "\n",
              "  .colab-df-spinner {\n",
              "    border: 2px solid var(--fill-color);\n",
              "    border-color: transparent;\n",
              "    border-bottom-color: var(--fill-color);\n",
              "    animation:\n",
              "      spin 1s steps(1) infinite;\n",
              "  }\n",
              "\n",
              "  @keyframes spin {\n",
              "    0% {\n",
              "      border-color: transparent;\n",
              "      border-bottom-color: var(--fill-color);\n",
              "      border-left-color: var(--fill-color);\n",
              "    }\n",
              "    20% {\n",
              "      border-color: transparent;\n",
              "      border-left-color: var(--fill-color);\n",
              "      border-top-color: var(--fill-color);\n",
              "    }\n",
              "    30% {\n",
              "      border-color: transparent;\n",
              "      border-left-color: var(--fill-color);\n",
              "      border-top-color: var(--fill-color);\n",
              "      border-right-color: var(--fill-color);\n",
              "    }\n",
              "    40% {\n",
              "      border-color: transparent;\n",
              "      border-right-color: var(--fill-color);\n",
              "      border-top-color: var(--fill-color);\n",
              "    }\n",
              "    60% {\n",
              "      border-color: transparent;\n",
              "      border-right-color: var(--fill-color);\n",
              "    }\n",
              "    80% {\n",
              "      border-color: transparent;\n",
              "      border-right-color: var(--fill-color);\n",
              "      border-bottom-color: var(--fill-color);\n",
              "    }\n",
              "    90% {\n",
              "      border-color: transparent;\n",
              "      border-bottom-color: var(--fill-color);\n",
              "    }\n",
              "  }\n",
              "</style>\n",
              "\n",
              "      <script>\n",
              "        async function quickchart(key) {\n",
              "          const quickchartButtonEl =\n",
              "            document.querySelector('#' + key + ' button');\n",
              "          quickchartButtonEl.disabled = true;  // To prevent multiple clicks.\n",
              "          quickchartButtonEl.classList.add('colab-df-spinner');\n",
              "          try {\n",
              "            const charts = await google.colab.kernel.invokeFunction(\n",
              "                'suggestCharts', [key], {});\n",
              "          } catch (error) {\n",
              "            console.error('Error during call to suggestCharts:', error);\n",
              "          }\n",
              "          quickchartButtonEl.classList.remove('colab-df-spinner');\n",
              "          quickchartButtonEl.classList.add('colab-df-quickchart-complete');\n",
              "        }\n",
              "        (() => {\n",
              "          let quickchartButtonEl =\n",
              "            document.querySelector('#df-53c5dd3e-75a3-4c4c-be49-1a3984f033a5 button');\n",
              "          quickchartButtonEl.style.display =\n",
              "            google.colab.kernel.accessAllowed ? 'block' : 'none';\n",
              "        })();\n",
              "      </script>\n",
              "    </div>\n",
              "\n",
              "  <div id=\"id_c53fdc12-b794-4eb4-8921-5667f4278e32\">\n",
              "    <style>\n",
              "      .colab-df-generate {\n",
              "        background-color: #E8F0FE;\n",
              "        border: none;\n",
              "        border-radius: 50%;\n",
              "        cursor: pointer;\n",
              "        display: none;\n",
              "        fill: #1967D2;\n",
              "        height: 32px;\n",
              "        padding: 0 0 0 0;\n",
              "        width: 32px;\n",
              "      }\n",
              "\n",
              "      .colab-df-generate:hover {\n",
              "        background-color: #E2EBFA;\n",
              "        box-shadow: 0px 1px 2px rgba(60, 64, 67, 0.3), 0px 1px 3px 1px rgba(60, 64, 67, 0.15);\n",
              "        fill: #174EA6;\n",
              "      }\n",
              "\n",
              "      [theme=dark] .colab-df-generate {\n",
              "        background-color: #3B4455;\n",
              "        fill: #D2E3FC;\n",
              "      }\n",
              "\n",
              "      [theme=dark] .colab-df-generate:hover {\n",
              "        background-color: #434B5C;\n",
              "        box-shadow: 0px 1px 3px 1px rgba(0, 0, 0, 0.15);\n",
              "        filter: drop-shadow(0px 1px 2px rgba(0, 0, 0, 0.3));\n",
              "        fill: #FFFFFF;\n",
              "      }\n",
              "    </style>\n",
              "    <button class=\"colab-df-generate\" onclick=\"generateWithVariable('pddf_acc')\"\n",
              "            title=\"Generate code using this dataframe.\"\n",
              "            style=\"display:none;\">\n",
              "\n",
              "  <svg xmlns=\"http://www.w3.org/2000/svg\" height=\"24px\"viewBox=\"0 0 24 24\"\n",
              "       width=\"24px\">\n",
              "    <path d=\"M7,19H8.4L18.45,9,17,7.55,7,17.6ZM5,21V16.75L18.45,3.32a2,2,0,0,1,2.83,0l1.4,1.43a1.91,1.91,0,0,1,.58,1.4,1.91,1.91,0,0,1-.58,1.4L9.25,21ZM18.45,9,17,7.55Zm-12,3A5.31,5.31,0,0,0,4.9,8.1,5.31,5.31,0,0,0,1,6.5,5.31,5.31,0,0,0,4.9,4.9,5.31,5.31,0,0,0,6.5,1,5.31,5.31,0,0,0,8.1,4.9,5.31,5.31,0,0,0,12,6.5,5.46,5.46,0,0,0,6.5,12Z\"/>\n",
              "  </svg>\n",
              "    </button>\n",
              "    <script>\n",
              "      (() => {\n",
              "      const buttonEl =\n",
              "        document.querySelector('#id_c53fdc12-b794-4eb4-8921-5667f4278e32 button.colab-df-generate');\n",
              "      buttonEl.style.display =\n",
              "        google.colab.kernel.accessAllowed ? 'block' : 'none';\n",
              "\n",
              "      buttonEl.onclick = () => {\n",
              "        google.colab.notebook.generateWithVariable('pddf_acc');\n",
              "      }\n",
              "      })();\n",
              "    </script>\n",
              "  </div>\n",
              "\n",
              "    </div>\n",
              "  </div>\n"
            ],
            "application/vnd.google.colaboratory.intrinsic+json": {
              "type": "dataframe",
              "variable_name": "pddf_acc",
              "summary": "{\n  \"name\": \"pddf_acc\",\n  \"rows\": 5,\n  \"fields\": [\n    {\n      \"column\": \"Modelo\",\n      \"properties\": {\n        \"dtype\": \"string\",\n        \"num_unique_values\": 5,\n        \"samples\": [\n          \"NaiveBayes\",\n          \"LSTM\",\n          \"DecisionTreeClassifier\"\n        ],\n        \"semantic_type\": \"\",\n        \"description\": \"\"\n      }\n    },\n    {\n      \"column\": \"Acuracia\",\n      \"properties\": {\n        \"dtype\": \"number\",\n        \"std\": 0.35209558338809643,\n        \"min\": 0.038684210526315786,\n        \"max\": 0.8936842083930969,\n        \"num_unique_values\": 5,\n        \"samples\": [\n          0.038684210526315786,\n          0.8936842083930969,\n          0.36276315789473684\n        ],\n        \"semantic_type\": \"\",\n        \"description\": \"\"\n      }\n    }\n  ]\n}"
            }
          },
          "metadata": {},
          "execution_count": 24
        }
      ]
    },
    {
      "cell_type": "markdown",
      "source": [
        "O melhor modeo foi o lstm com o keras, agora vou otimizar os hiperparametros\n",
        "## Otimizaçao de hiperparametros"
      ],
      "metadata": {
        "id": "c2ags3EfPYzs"
      }
    },
    {
      "cell_type": "code",
      "metadata": {
        "colab": {
          "base_uri": "https://localhost:8080/",
          "height": 403
        },
        "id": "15912e9f",
        "outputId": "2b365832-a5c3-4898-93a8-7d75ed88239d"
      },
      "source": [
        "import keras_tuner as kt\n",
        "\n",
        "def build_lstm_model(hp):\n",
        "    model = keras.models.Sequential()\n",
        "    model.add(layers.Embedding(input_dim=len(tokenizer.word_index) + 1, output_dim=hp.Int('embedding_output_dim', min_value=32, max_value=256, step=32)))\n",
        "    model.add(keras.layers.LSTM(units=hp.Int('lstm_units', min_value=32, max_value=128, step=32)))\n",
        "    model.add(layers.Dense(units=hp.Int('dense_units', min_value=16, max_value=64, step=16), activation=hp.Choice('dense_activation', values=['relu', 'tanh'])))\n",
        "    model.add(layers.Dense(4, activation='softmax'))\n",
        "\n",
        "    model.compile(optimizer=keras.optimizers.Adam(hp.Float('learning_rate', min_value=1e-4, max_value=1e-2, sampling='log')),\n",
        "                  loss='sparse_categorical_crossentropy',\n",
        "                  metrics=['accuracy'])\n",
        "    return model\n",
        "\n",
        "tuner = kt.Hyperband(\n",
        "    build_lstm_model,\n",
        "    objective='val_accuracy',\n",
        "    max_epochs=10,\n",
        "    factor=3,\n",
        "    directory='my_dir',\n",
        "    project_name='intro_to_kt')\n",
        "\n",
        "stop_early = tf.keras.callbacks.EarlyStopping(monitor='val_loss', patience=5)\n",
        "\n",
        "tuner.search(pad_train_sequences, labels - 1, epochs=50, validation_split=0.2, callbacks=[stop_early])\n",
        "\n",
        "best_hps=tuner.get_best_hyperparameters(num_trials=1)[0]\n",
        "\n",
        "print(f\"\"\"\n",
        "Melhor embedding_output_dim is {best_hps.get('embedding_output_dim')}\n",
        "Melhor lstm_units is {best_hps.get('lstm_units')}\n",
        "Melhor dense_units is {best_hps.get('dense_units')}\n",
        "Melhor dense_activation is {best_hps.get('dense_activation')}\n",
        "Melhor learning_rate is {best_hps.get('learning_rate')}\n",
        "\"\"\")\n",
        "\n",
        "fim = time.time()\n",
        "print(print(f\"Tempo de execução{(fim - inicio)/(60*60)}\"))\n"
      ],
      "execution_count": null,
      "outputs": [
        {
          "output_type": "error",
          "ename": "ModuleNotFoundError",
          "evalue": "No module named 'keras_tuner'",
          "traceback": [
            "\u001b[0;31m---------------------------------------------------------------------------\u001b[0m",
            "\u001b[0;31mModuleNotFoundError\u001b[0m                       Traceback (most recent call last)",
            "\u001b[0;32m/tmp/ipython-input-2038695752.py\u001b[0m in \u001b[0;36m<cell line: 0>\u001b[0;34m()\u001b[0m\n\u001b[0;32m----> 1\u001b[0;31m \u001b[0;32mimport\u001b[0m \u001b[0mkeras_tuner\u001b[0m \u001b[0;32mas\u001b[0m \u001b[0mkt\u001b[0m\u001b[0;34m\u001b[0m\u001b[0;34m\u001b[0m\u001b[0m\n\u001b[0m\u001b[1;32m      2\u001b[0m \u001b[0;34m\u001b[0m\u001b[0m\n\u001b[1;32m      3\u001b[0m \u001b[0;32mdef\u001b[0m \u001b[0mbuild_lstm_model\u001b[0m\u001b[0;34m(\u001b[0m\u001b[0mhp\u001b[0m\u001b[0;34m)\u001b[0m\u001b[0;34m:\u001b[0m\u001b[0;34m\u001b[0m\u001b[0;34m\u001b[0m\u001b[0m\n\u001b[1;32m      4\u001b[0m     \u001b[0mmodel\u001b[0m \u001b[0;34m=\u001b[0m \u001b[0mkeras\u001b[0m\u001b[0;34m.\u001b[0m\u001b[0mmodels\u001b[0m\u001b[0;34m.\u001b[0m\u001b[0mSequential\u001b[0m\u001b[0;34m(\u001b[0m\u001b[0;34m)\u001b[0m\u001b[0;34m\u001b[0m\u001b[0;34m\u001b[0m\u001b[0m\n\u001b[1;32m      5\u001b[0m     \u001b[0mmodel\u001b[0m\u001b[0;34m.\u001b[0m\u001b[0madd\u001b[0m\u001b[0;34m(\u001b[0m\u001b[0mlayers\u001b[0m\u001b[0;34m.\u001b[0m\u001b[0mEmbedding\u001b[0m\u001b[0;34m(\u001b[0m\u001b[0minput_dim\u001b[0m\u001b[0;34m=\u001b[0m\u001b[0mlen\u001b[0m\u001b[0;34m(\u001b[0m\u001b[0mtokenizer\u001b[0m\u001b[0;34m.\u001b[0m\u001b[0mword_index\u001b[0m\u001b[0;34m)\u001b[0m \u001b[0;34m+\u001b[0m \u001b[0;36m1\u001b[0m\u001b[0;34m,\u001b[0m \u001b[0moutput_dim\u001b[0m\u001b[0;34m=\u001b[0m\u001b[0mhp\u001b[0m\u001b[0;34m.\u001b[0m\u001b[0mInt\u001b[0m\u001b[0;34m(\u001b[0m\u001b[0;34m'embedding_output_dim'\u001b[0m\u001b[0;34m,\u001b[0m \u001b[0mmin_value\u001b[0m\u001b[0;34m=\u001b[0m\u001b[0;36m32\u001b[0m\u001b[0;34m,\u001b[0m \u001b[0mmax_value\u001b[0m\u001b[0;34m=\u001b[0m\u001b[0;36m256\u001b[0m\u001b[0;34m,\u001b[0m \u001b[0mstep\u001b[0m\u001b[0;34m=\u001b[0m\u001b[0;36m32\u001b[0m\u001b[0;34m)\u001b[0m\u001b[0;34m)\u001b[0m\u001b[0;34m)\u001b[0m\u001b[0;34m\u001b[0m\u001b[0;34m\u001b[0m\u001b[0m\n",
            "\u001b[0;31mModuleNotFoundError\u001b[0m: No module named 'keras_tuner'",
            "",
            "\u001b[0;31m---------------------------------------------------------------------------\u001b[0;32m\nNOTE: If your import is failing due to a missing package, you can\nmanually install dependencies using either !pip or !apt.\n\nTo view examples of installing some common dependencies, click the\n\"Open Examples\" button below.\n\u001b[0;31m---------------------------------------------------------------------------\u001b[0m\n"
          ],
          "errorDetails": {
            "actions": [
              {
                "action": "open_url",
                "actionText": "Open Examples",
                "url": "/notebooks/snippets/importing_libraries.ipynb"
              }
            ]
          }
        }
      ]
    }
  ]
}