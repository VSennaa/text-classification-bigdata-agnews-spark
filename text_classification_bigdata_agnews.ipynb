{
  "nbformat": 4,
  "nbformat_minor": 0,
  "metadata": {
    "colab": {
      "provenance": [],
      "authorship_tag": "ABX9TyM+b6FWiNhEJnfEM9iwxw2B",
      "include_colab_link": true
    },
    "kernelspec": {
      "name": "python3",
      "display_name": "Python 3"
    },
    "language_info": {
      "name": "python"
    }
  },
  "cells": [
    {
      "cell_type": "markdown",
      "metadata": {
        "id": "view-in-github",
        "colab_type": "text"
      },
      "source": [
        "<a href=\"https://colab.research.google.com/github/VSennaa/text-classification-bigdata-agnews-spark/blob/main/text_classification_bigdata_agnews.ipynb\" target=\"_parent\"><img src=\"https://colab.research.google.com/assets/colab-badge.svg\" alt=\"Open In Colab\"/></a>"
      ]
    },
    {
      "cell_type": "markdown",
      "source": [
        "https://huggingface.co/datasets/sh0416/ag_news"
      ],
      "metadata": {
        "id": "GwW2PP_O1moN"
      }
    },
    {
      "cell_type": "code",
      "source": [
        "from pyspark.sql import SparkSession\n",
        "import os"
      ],
      "metadata": {
        "id": "rRJnCLbS1q6l"
      },
      "execution_count": 1,
      "outputs": []
    },
    {
      "cell_type": "markdown",
      "source": [
        "Inicizalizando o Spark\n"
      ],
      "metadata": {
        "id": "nRqi5Ik714ma"
      }
    },
    {
      "cell_type": "code",
      "source": [
        "spark = SparkSession \\\n",
        "    .builder \\\n",
        "    .appName(\"Python Spark SQL\") \\\n",
        "    .config(\"spark.some.config.option\", \"some-value\") \\\n",
        "    .getOrCreate()"
      ],
      "metadata": {
        "id": "u0Co5T7610oq"
      },
      "execution_count": 2,
      "outputs": []
    },
    {
      "cell_type": "markdown",
      "source": [
        "Aquisição do dataset"
      ],
      "metadata": {
        "id": "Alh0HThcDDTH"
      }
    },
    {
      "cell_type": "code",
      "source": [
        "!wget 'https://raw.githubusercontent.com/VSennaa/text-classification-bigdata-agnews-spark/refs/heads/main/train.jsonl'\n",
        "!wget 'https://raw.githubusercontent.com/VSennaa/text-classification-bigdata-agnews-spark/refs/heads/main/test.jsonl'"
      ],
      "metadata": {
        "colab": {
          "base_uri": "https://localhost:8080/"
        },
        "id": "WhNl6aV5CBu0",
        "outputId": "a1337fc4-7d26-44c8-b9a1-2fb9c5b22659"
      },
      "execution_count": 3,
      "outputs": [
        {
          "output_type": "stream",
          "name": "stdout",
          "text": [
            "--2025-08-05 21:03:15--  https://raw.githubusercontent.com/VSennaa/text-classification-bigdata-agnews-spark/refs/heads/main/train.jsonl\n",
            "Resolving raw.githubusercontent.com (raw.githubusercontent.com)... 185.199.108.133, 185.199.109.133, 185.199.111.133, ...\n",
            "Connecting to raw.githubusercontent.com (raw.githubusercontent.com)|185.199.108.133|:443... connected.\n",
            "HTTP request sent, awaiting response... 200 OK\n",
            "Length: 33697315 (32M) [text/plain]\n",
            "Saving to: ‘train.jsonl’\n",
            "\n",
            "train.jsonl         100%[===================>]  32.14M   177MB/s    in 0.2s    \n",
            "\n",
            "2025-08-05 21:03:15 (177 MB/s) - ‘train.jsonl’ saved [33697315/33697315]\n",
            "\n",
            "--2025-08-05 21:03:15--  https://raw.githubusercontent.com/VSennaa/text-classification-bigdata-agnews-spark/refs/heads/main/test.jsonl\n",
            "Resolving raw.githubusercontent.com (raw.githubusercontent.com)... 185.199.108.133, 185.199.109.133, 185.199.110.133, ...\n",
            "Connecting to raw.githubusercontent.com (raw.githubusercontent.com)|185.199.108.133|:443... connected.\n",
            "HTTP request sent, awaiting response... 200 OK\n",
            "Length: 2125097 (2.0M) [text/plain]\n",
            "Saving to: ‘test.jsonl’\n",
            "\n",
            "test.jsonl          100%[===================>]   2.03M  --.-KB/s    in 0.07s   \n",
            "\n",
            "2025-08-05 21:03:15 (29.2 MB/s) - ‘test.jsonl’ saved [2125097/2125097]\n",
            "\n"
          ]
        }
      ]
    },
    {
      "cell_type": "code",
      "source": [
        "df_train = spark.read.json(\"/content/train.jsonl\")\n",
        "df_test = spark.read.json(\"/content/test.jsonl\")"
      ],
      "metadata": {
        "id": "pXQjOVuJ1mb0"
      },
      "execution_count": 4,
      "outputs": []
    },
    {
      "cell_type": "code",
      "execution_count": null,
      "metadata": {
        "id": "_tyjWvxqy_YG"
      },
      "outputs": [],
      "source": []
    }
  ]
}